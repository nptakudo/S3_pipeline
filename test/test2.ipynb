{
 "cells": [
  {
   "cell_type": "code",
   "execution_count": 4,
   "metadata": {},
   "outputs": [],
   "source": [
    "from scraper import *"
   ]
  },
  {
   "cell_type": "code",
   "execution_count": 12,
   "metadata": {},
   "outputs": [
    {
     "data": {
      "text/plain": [
       "list"
      ]
     },
     "execution_count": 12,
     "metadata": {},
     "output_type": "execute_result"
    }
   ],
   "source": [
    "#how to import class\n",
    "# from scraper import Scraper\n",
    "scraper = Scraper()\n",
    "headphones = scraper.scrape(device_type=\"headphones\")\n",
    "type(headphones)\n",
    "# iems = scraper.scrape(device_type=\"iems\")\n"
   ]
  },
  {
   "cell_type": "code",
   "execution_count": 15,
   "metadata": {},
   "outputs": [
    {
     "data": {
      "text/plain": [
       "'scrape'"
      ]
     },
     "execution_count": 15,
     "metadata": {},
     "output_type": "execute_result"
    }
   ],
   "source": [
    "scraper.scrape.__name__"
   ]
  },
  {
   "cell_type": "code",
   "execution_count": 25,
   "metadata": {},
   "outputs": [
    {
     "ename": "AttributeError",
     "evalue": "type object 'Person' has no attribute 'printSth'",
     "output_type": "error",
     "traceback": [
      "\u001b[0;31m---------------------------------------------------------------------------\u001b[0m",
      "\u001b[0;31mAttributeError\u001b[0m                            Traceback (most recent call last)",
      "Cell \u001b[0;32mIn[25], line 16\u001b[0m\n\u001b[1;32m     12\u001b[0m         \u001b[39mprint\u001b[39m(\u001b[39m\"\u001b[39m\u001b[39mhello\u001b[39m\u001b[39m\"\u001b[39m)\n\u001b[1;32m     14\u001b[0m \u001b[39m# hehe = Person()\u001b[39;00m\n\u001b[1;32m     15\u001b[0m \u001b[39m# print(Person.getPopu())\u001b[39;00m\n\u001b[0;32m---> 16\u001b[0m \u001b[39mprint\u001b[39m(Person\u001b[39m.\u001b[39;49mprintSth())\n",
      "\u001b[0;31mAttributeError\u001b[0m: type object 'Person' has no attribute 'printSth'"
     ]
    }
   ],
   "source": [
    "class Person:\n",
    "    popu = 50\n",
    "    def __init__(self, name = 1, age = 1):\n",
    "        self.name = name\n",
    "        self.age = age\n",
    "    \n",
    "    @classmethod\n",
    "    def getPopu(self):\n",
    "        return self.popu\n",
    "    \n",
    "    def _printSth():\n",
    "        print(\"hello\")\n",
    "\n",
    "hehe = Person()\n",
    "# print(Person.getPopu())\n",
    "        \n",
    "print(hehe.printSth())"
   ]
  },
  {
   "cell_type": "code",
   "execution_count": null,
   "metadata": {},
   "outputs": [],
   "source": []
  }
 ],
 "metadata": {
  "kernelspec": {
   "display_name": "Python 3",
   "language": "python",
   "name": "python3"
  },
  "language_info": {
   "codemirror_mode": {
    "name": "ipython",
    "version": 3
   },
   "file_extension": ".py",
   "mimetype": "text/x-python",
   "name": "python",
   "nbconvert_exporter": "python",
   "pygments_lexer": "ipython3",
   "version": "3.11.5"
  },
  "orig_nbformat": 4
 },
 "nbformat": 4,
 "nbformat_minor": 2
}
